{
 "cells": [
  {
   "cell_type": "code",
   "execution_count": 1,
   "id": "f596c41c-6251-4ec6-beb4-d4bb585767e8",
   "metadata": {},
   "outputs": [
    {
     "name": "stdout",
     "output_type": "stream",
     "text": [
      "hello world\n"
     ]
    }
   ],
   "source": [
    "print(\"hello world\")"
   ]
  },
  {
   "cell_type": "code",
   "execution_count": 2,
   "id": "dbc05ad9-3adf-40ea-92a8-56992a2c6548",
   "metadata": {},
   "outputs": [
    {
     "data": {
      "text/plain": [
       "int"
      ]
     },
     "execution_count": 2,
     "metadata": {},
     "output_type": "execute_result"
    }
   ],
   "source": [
    "x : int = 32\n",
    "type(x)"
   ]
  },
  {
   "cell_type": "code",
   "execution_count": null,
   "id": "626a6535-379a-4680-b2e9-2eb1f8f7311a",
   "metadata": {},
   "outputs": [],
   "source": []
  },
  {
   "cell_type": "code",
   "execution_count": 8,
   "id": "b5fbc8bb-4356-4820-ab71-f83bcb29112a",
   "metadata": {},
   "outputs": [
    {
     "data": {
      "text/plain": [
       "'selimnaima'"
      ]
     },
     "execution_count": 8,
     "metadata": {},
     "output_type": "execute_result"
    }
   ],
   "source": [
    "import numpy as np\n",
    "np.array([1,2,3,4])\n",
    "\n",
    "def dom(x : str, y : str) ->str :\n",
    "    return x + y\n",
    "dom(\"selim\", \"naima\")"
   ]
  },
  {
   "cell_type": "code",
   "execution_count": null,
   "id": "6b3e83b0-1b44-4d33-97c9-445200ea58a3",
   "metadata": {},
   "outputs": [],
   "source": []
  },
  {
   "cell_type": "code",
   "execution_count": null,
   "id": "27ccb94e-1936-452b-9838-d1dff3fc6b61",
   "metadata": {},
   "outputs": [],
   "source": []
  },
  {
   "cell_type": "code",
   "execution_count": null,
   "id": "58d6f3eb-f1ee-43c0-a659-81bb4c2cd68b",
   "metadata": {},
   "outputs": [],
   "source": []
  }
 ],
 "metadata": {
  "kernelspec": {
   "display_name": "Python 3 (ipykernel)",
   "language": "python",
   "name": "python3"
  },
  "language_info": {
   "codemirror_mode": {
    "name": "ipython",
    "version": 3
   },
   "file_extension": ".py",
   "mimetype": "text/x-python",
   "name": "python",
   "nbconvert_exporter": "python",
   "pygments_lexer": "ipython3",
   "version": "3.12.1"
  }
 },
 "nbformat": 4,
 "nbformat_minor": 5
}
